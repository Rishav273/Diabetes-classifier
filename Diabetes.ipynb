{
 "cells": [
  {
   "cell_type": "markdown",
   "metadata": {},
   "source": [
    "* Pregnancies: Number of times pregnant\n",
    "* Glucose: Plasma glucose concentration over 2 hours in an oral glucose tolerance test\n",
    "* BloodPressure: Diastolic blood pressure (mm Hg)\n",
    "* SkinThickness: Triceps skin fold thickness (mm)\n",
    "* Insulin: 2-Hour serum insulin (mu U/ml)\n",
    "* BMI: Body mass index (weight in kg/(height in m)2)\n",
    "* DiabetesPedigreeFunction - gives the likelihood of a person being diabetic based on family history.\n",
    "* Age: Age (years)\n",
    "* Outcome: Class variable (0 if non-diabetic, 1 if diabetic)"
   ]
  },
  {
   "cell_type": "code",
   "execution_count": 1,
   "metadata": {},
   "outputs": [],
   "source": [
    "import numpy as np\n",
    "import pandas as pd\n",
    "import seaborn as sns\n",
    "import matplotlib.pyplot as plt\n",
    "%matplotlib inline"
   ]
  },
  {
   "cell_type": "code",
   "execution_count": 2,
   "metadata": {},
   "outputs": [
    {
     "data": {
      "text/html": [
       "<div>\n",
       "<style scoped>\n",
       "    .dataframe tbody tr th:only-of-type {\n",
       "        vertical-align: middle;\n",
       "    }\n",
       "\n",
       "    .dataframe tbody tr th {\n",
       "        vertical-align: top;\n",
       "    }\n",
       "\n",
       "    .dataframe thead th {\n",
       "        text-align: right;\n",
       "    }\n",
       "</style>\n",
       "<table border=\"1\" class=\"dataframe\">\n",
       "  <thead>\n",
       "    <tr style=\"text-align: right;\">\n",
       "      <th></th>\n",
       "      <th>Pregnancies</th>\n",
       "      <th>Glucose</th>\n",
       "      <th>BloodPressure</th>\n",
       "      <th>SkinThickness</th>\n",
       "      <th>Insulin</th>\n",
       "      <th>BMI</th>\n",
       "      <th>DiabetesPedigreeFunction</th>\n",
       "      <th>Age</th>\n",
       "      <th>Outcome</th>\n",
       "    </tr>\n",
       "  </thead>\n",
       "  <tbody>\n",
       "    <tr>\n",
       "      <th>0</th>\n",
       "      <td>6</td>\n",
       "      <td>148</td>\n",
       "      <td>72</td>\n",
       "      <td>35</td>\n",
       "      <td>0</td>\n",
       "      <td>33.6</td>\n",
       "      <td>0.627</td>\n",
       "      <td>50</td>\n",
       "      <td>1</td>\n",
       "    </tr>\n",
       "    <tr>\n",
       "      <th>1</th>\n",
       "      <td>1</td>\n",
       "      <td>85</td>\n",
       "      <td>66</td>\n",
       "      <td>29</td>\n",
       "      <td>0</td>\n",
       "      <td>26.6</td>\n",
       "      <td>0.351</td>\n",
       "      <td>31</td>\n",
       "      <td>0</td>\n",
       "    </tr>\n",
       "    <tr>\n",
       "      <th>2</th>\n",
       "      <td>8</td>\n",
       "      <td>183</td>\n",
       "      <td>64</td>\n",
       "      <td>0</td>\n",
       "      <td>0</td>\n",
       "      <td>23.3</td>\n",
       "      <td>0.672</td>\n",
       "      <td>32</td>\n",
       "      <td>1</td>\n",
       "    </tr>\n",
       "    <tr>\n",
       "      <th>3</th>\n",
       "      <td>1</td>\n",
       "      <td>89</td>\n",
       "      <td>66</td>\n",
       "      <td>23</td>\n",
       "      <td>94</td>\n",
       "      <td>28.1</td>\n",
       "      <td>0.167</td>\n",
       "      <td>21</td>\n",
       "      <td>0</td>\n",
       "    </tr>\n",
       "    <tr>\n",
       "      <th>4</th>\n",
       "      <td>0</td>\n",
       "      <td>137</td>\n",
       "      <td>40</td>\n",
       "      <td>35</td>\n",
       "      <td>168</td>\n",
       "      <td>43.1</td>\n",
       "      <td>2.288</td>\n",
       "      <td>33</td>\n",
       "      <td>1</td>\n",
       "    </tr>\n",
       "  </tbody>\n",
       "</table>\n",
       "</div>"
      ],
      "text/plain": [
       "   Pregnancies  Glucose  BloodPressure  SkinThickness  Insulin   BMI  \\\n",
       "0            6      148             72             35        0  33.6   \n",
       "1            1       85             66             29        0  26.6   \n",
       "2            8      183             64              0        0  23.3   \n",
       "3            1       89             66             23       94  28.1   \n",
       "4            0      137             40             35      168  43.1   \n",
       "\n",
       "   DiabetesPedigreeFunction  Age  Outcome  \n",
       "0                     0.627   50        1  \n",
       "1                     0.351   31        0  \n",
       "2                     0.672   32        1  \n",
       "3                     0.167   21        0  \n",
       "4                     2.288   33        1  "
      ]
     },
     "execution_count": 2,
     "metadata": {},
     "output_type": "execute_result"
    }
   ],
   "source": [
    "data = pd.read_csv('diabetes.csv')\n",
    "data.head()"
   ]
  },
  {
   "cell_type": "code",
   "execution_count": 3,
   "metadata": {},
   "outputs": [
    {
     "name": "stdout",
     "output_type": "stream",
     "text": [
      "<class 'pandas.core.frame.DataFrame'>\n",
      "RangeIndex: 768 entries, 0 to 767\n",
      "Data columns (total 9 columns):\n",
      " #   Column                    Non-Null Count  Dtype  \n",
      "---  ------                    --------------  -----  \n",
      " 0   Pregnancies               768 non-null    int64  \n",
      " 1   Glucose                   768 non-null    int64  \n",
      " 2   BloodPressure             768 non-null    int64  \n",
      " 3   SkinThickness             768 non-null    int64  \n",
      " 4   Insulin                   768 non-null    int64  \n",
      " 5   BMI                       768 non-null    float64\n",
      " 6   DiabetesPedigreeFunction  768 non-null    float64\n",
      " 7   Age                       768 non-null    int64  \n",
      " 8   Outcome                   768 non-null    int64  \n",
      "dtypes: float64(2), int64(7)\n",
      "memory usage: 54.1 KB\n"
     ]
    }
   ],
   "source": [
    "data.info()"
   ]
  },
  {
   "cell_type": "code",
   "execution_count": 4,
   "metadata": {},
   "outputs": [
    {
     "data": {
      "text/html": [
       "<div>\n",
       "<style scoped>\n",
       "    .dataframe tbody tr th:only-of-type {\n",
       "        vertical-align: middle;\n",
       "    }\n",
       "\n",
       "    .dataframe tbody tr th {\n",
       "        vertical-align: top;\n",
       "    }\n",
       "\n",
       "    .dataframe thead th {\n",
       "        text-align: right;\n",
       "    }\n",
       "</style>\n",
       "<table border=\"1\" class=\"dataframe\">\n",
       "  <thead>\n",
       "    <tr style=\"text-align: right;\">\n",
       "      <th></th>\n",
       "      <th>Pregnancies</th>\n",
       "      <th>Glucose</th>\n",
       "      <th>BloodPressure</th>\n",
       "      <th>SkinThickness</th>\n",
       "      <th>Insulin</th>\n",
       "      <th>BMI</th>\n",
       "      <th>DiabetesPedigreeFunction</th>\n",
       "      <th>Age</th>\n",
       "      <th>Outcome</th>\n",
       "    </tr>\n",
       "  </thead>\n",
       "  <tbody>\n",
       "    <tr>\n",
       "      <th>count</th>\n",
       "      <td>768.000000</td>\n",
       "      <td>768.000000</td>\n",
       "      <td>768.000000</td>\n",
       "      <td>768.000000</td>\n",
       "      <td>768.000000</td>\n",
       "      <td>768.000000</td>\n",
       "      <td>768.000000</td>\n",
       "      <td>768.000000</td>\n",
       "      <td>768.000000</td>\n",
       "    </tr>\n",
       "    <tr>\n",
       "      <th>mean</th>\n",
       "      <td>3.845052</td>\n",
       "      <td>120.894531</td>\n",
       "      <td>69.105469</td>\n",
       "      <td>20.536458</td>\n",
       "      <td>79.799479</td>\n",
       "      <td>31.992578</td>\n",
       "      <td>0.471876</td>\n",
       "      <td>33.240885</td>\n",
       "      <td>0.348958</td>\n",
       "    </tr>\n",
       "    <tr>\n",
       "      <th>std</th>\n",
       "      <td>3.369578</td>\n",
       "      <td>31.972618</td>\n",
       "      <td>19.355807</td>\n",
       "      <td>15.952218</td>\n",
       "      <td>115.244002</td>\n",
       "      <td>7.884160</td>\n",
       "      <td>0.331329</td>\n",
       "      <td>11.760232</td>\n",
       "      <td>0.476951</td>\n",
       "    </tr>\n",
       "    <tr>\n",
       "      <th>min</th>\n",
       "      <td>0.000000</td>\n",
       "      <td>0.000000</td>\n",
       "      <td>0.000000</td>\n",
       "      <td>0.000000</td>\n",
       "      <td>0.000000</td>\n",
       "      <td>0.000000</td>\n",
       "      <td>0.078000</td>\n",
       "      <td>21.000000</td>\n",
       "      <td>0.000000</td>\n",
       "    </tr>\n",
       "    <tr>\n",
       "      <th>25%</th>\n",
       "      <td>1.000000</td>\n",
       "      <td>99.000000</td>\n",
       "      <td>62.000000</td>\n",
       "      <td>0.000000</td>\n",
       "      <td>0.000000</td>\n",
       "      <td>27.300000</td>\n",
       "      <td>0.243750</td>\n",
       "      <td>24.000000</td>\n",
       "      <td>0.000000</td>\n",
       "    </tr>\n",
       "    <tr>\n",
       "      <th>50%</th>\n",
       "      <td>3.000000</td>\n",
       "      <td>117.000000</td>\n",
       "      <td>72.000000</td>\n",
       "      <td>23.000000</td>\n",
       "      <td>30.500000</td>\n",
       "      <td>32.000000</td>\n",
       "      <td>0.372500</td>\n",
       "      <td>29.000000</td>\n",
       "      <td>0.000000</td>\n",
       "    </tr>\n",
       "    <tr>\n",
       "      <th>75%</th>\n",
       "      <td>6.000000</td>\n",
       "      <td>140.250000</td>\n",
       "      <td>80.000000</td>\n",
       "      <td>32.000000</td>\n",
       "      <td>127.250000</td>\n",
       "      <td>36.600000</td>\n",
       "      <td>0.626250</td>\n",
       "      <td>41.000000</td>\n",
       "      <td>1.000000</td>\n",
       "    </tr>\n",
       "    <tr>\n",
       "      <th>max</th>\n",
       "      <td>17.000000</td>\n",
       "      <td>199.000000</td>\n",
       "      <td>122.000000</td>\n",
       "      <td>99.000000</td>\n",
       "      <td>846.000000</td>\n",
       "      <td>67.100000</td>\n",
       "      <td>2.420000</td>\n",
       "      <td>81.000000</td>\n",
       "      <td>1.000000</td>\n",
       "    </tr>\n",
       "  </tbody>\n",
       "</table>\n",
       "</div>"
      ],
      "text/plain": [
       "       Pregnancies     Glucose  BloodPressure  SkinThickness     Insulin  \\\n",
       "count   768.000000  768.000000     768.000000     768.000000  768.000000   \n",
       "mean      3.845052  120.894531      69.105469      20.536458   79.799479   \n",
       "std       3.369578   31.972618      19.355807      15.952218  115.244002   \n",
       "min       0.000000    0.000000       0.000000       0.000000    0.000000   \n",
       "25%       1.000000   99.000000      62.000000       0.000000    0.000000   \n",
       "50%       3.000000  117.000000      72.000000      23.000000   30.500000   \n",
       "75%       6.000000  140.250000      80.000000      32.000000  127.250000   \n",
       "max      17.000000  199.000000     122.000000      99.000000  846.000000   \n",
       "\n",
       "              BMI  DiabetesPedigreeFunction         Age     Outcome  \n",
       "count  768.000000                768.000000  768.000000  768.000000  \n",
       "mean    31.992578                  0.471876   33.240885    0.348958  \n",
       "std      7.884160                  0.331329   11.760232    0.476951  \n",
       "min      0.000000                  0.078000   21.000000    0.000000  \n",
       "25%     27.300000                  0.243750   24.000000    0.000000  \n",
       "50%     32.000000                  0.372500   29.000000    0.000000  \n",
       "75%     36.600000                  0.626250   41.000000    1.000000  \n",
       "max     67.100000                  2.420000   81.000000    1.000000  "
      ]
     },
     "execution_count": 4,
     "metadata": {},
     "output_type": "execute_result"
    }
   ],
   "source": [
    "# Descriptive statistics:-\n",
    "\n",
    "data.describe()"
   ]
  },
  {
   "cell_type": "markdown",
   "metadata": {},
   "source": [
    "Let us analyse each feature w.r.t our target variable, the outcome.  "
   ]
  },
  {
   "cell_type": "markdown",
   "metadata": {},
   "source": [
    "We will be dropping the rows where number of pregnanices are greater than 14."
   ]
  },
  {
   "cell_type": "markdown",
   "metadata": {},
   "source": [
    "## Let us analyze each feature separately."
   ]
  },
  {
   "cell_type": "markdown",
   "metadata": {},
   "source": [
    "# Pregnancies:-"
   ]
  },
  {
   "cell_type": "code",
   "execution_count": 5,
   "metadata": {},
   "outputs": [
    {
     "data": {
      "text/plain": [
       "count    768.000000\n",
       "mean       3.845052\n",
       "std        3.369578\n",
       "min        0.000000\n",
       "25%        1.000000\n",
       "50%        3.000000\n",
       "75%        6.000000\n",
       "max       17.000000\n",
       "Name: Pregnancies, dtype: float64"
      ]
     },
     "execution_count": 5,
     "metadata": {},
     "output_type": "execute_result"
    }
   ],
   "source": [
    "data['Pregnancies'].describe()"
   ]
  },
  {
   "cell_type": "markdown",
   "metadata": {},
   "source": [
    "Pregnancies feature denotes number of times a patient has been pregnant. \n",
    "Observations:-\n",
    "\n",
    "* Maximum value for pregnany is 17, which is very unlikely. We need to deal with the outliers over here"
   ]
  },
  {
   "cell_type": "code",
   "execution_count": 6,
   "metadata": {},
   "outputs": [],
   "source": [
    "# function to remove outliers:-    \n",
    "sorted(data['Pregnancies'])\n",
    "q1 , q3 = np.percentile(data['Pregnancies'],[25,75])\n",
    "IQR = q3 - q1\n",
    "lower = q1 - (1.5*IQR)\n",
    "upper = q3 + (1.5*IQR)\n",
    "data['Pregnancies'] = data['Pregnancies'][(data['Pregnancies'] > lower) & (data['Pregnancies'] < upper)]"
   ]
  },
  {
   "cell_type": "code",
   "execution_count": 7,
   "metadata": {},
   "outputs": [
    {
     "data": {
      "text/plain": [
       "array([ 6.,  1.,  8.,  0.,  5.,  3., 10.,  2.,  4.,  7.,  9., 11., 13.,\n",
       "       12.])"
      ]
     },
     "execution_count": 7,
     "metadata": {},
     "output_type": "execute_result"
    }
   ],
   "source": [
    "# Replcaing the nan values with mean:-\n",
    "data['Pregnancies'] = data['Pregnancies'].replace(np.nan,4)\n",
    "data['Pregnancies'].unique() # Outliers have been removed."
   ]
  },
  {
   "cell_type": "markdown",
   "metadata": {},
   "source": [
    "# Glucose:-"
   ]
  },
  {
   "cell_type": "code",
   "execution_count": 8,
   "metadata": {},
   "outputs": [
    {
     "data": {
      "text/plain": [
       "count    768.000000\n",
       "mean     120.894531\n",
       "std       31.972618\n",
       "min        0.000000\n",
       "25%       99.000000\n",
       "50%      117.000000\n",
       "75%      140.250000\n",
       "max      199.000000\n",
       "Name: Glucose, dtype: float64"
      ]
     },
     "execution_count": 8,
     "metadata": {},
     "output_type": "execute_result"
    }
   ],
   "source": [
    "data['Glucose'].describe()"
   ]
  },
  {
   "cell_type": "markdown",
   "metadata": {},
   "source": [
    "Let's check the average glucose levels in healthy and diabetic patients. We will fill the 0 values with these accordingly,"
   ]
  },
  {
   "cell_type": "code",
   "execution_count": 9,
   "metadata": {},
   "outputs": [
    {
     "data": {
      "text/plain": [
       "Outcome\n",
       "0    107\n",
       "1    140\n",
       "Name: Glucose, dtype: int64"
      ]
     },
     "execution_count": 9,
     "metadata": {},
     "output_type": "execute_result"
    }
   ],
   "source": [
    "data['Glucose'].groupby(data['Outcome']).median()"
   ]
  },
  {
   "cell_type": "code",
   "execution_count": 10,
   "metadata": {},
   "outputs": [
    {
     "data": {
      "text/plain": [
       "array([148,  85, 183,  89, 137, 116,  78, 115, 197, 125, 110, 168, 139,\n",
       "       189, 166, 100, 118, 107, 103, 126,  99, 196, 119, 143, 147,  97,\n",
       "       145, 117, 109, 158,  88,  92, 122, 138, 102,  90, 111, 180, 133,\n",
       "       106, 171, 159, 146,  71, 105, 101, 176, 150,  73, 187,  84,  44,\n",
       "       141, 114,  95, 129,  79,  62, 131, 112, 113,  74,  83, 136,  80,\n",
       "       123,  81, 134, 142, 144,  93, 163, 151,  96, 155,  76, 160, 124,\n",
       "       162, 132, 120, 173, 170, 128, 108, 154,  57, 156, 153, 188, 152,\n",
       "       104,  87,  75, 179, 130, 194, 181, 135, 184, 140, 177, 164,  91,\n",
       "       165,  86, 193, 191, 161, 167,  77, 182, 157, 178,  61,  98, 127,\n",
       "        82,  72, 172,  94, 175, 195,  68, 186, 198, 121,  67, 174, 199,\n",
       "        56, 169, 149,  65, 190], dtype=int64)"
      ]
     },
     "execution_count": 10,
     "metadata": {},
     "output_type": "execute_result"
    }
   ],
   "source": [
    "data.loc[(data['Outcome'] == 0 ) & (data['Glucose'] == 0), 'Glucose'] = 107\n",
    "data.loc[(data['Outcome'] == 1 ) & (data['Glucose'] == 0), 'Glucose'] = 140\n",
    "data['Glucose'].unique()"
   ]
  },
  {
   "cell_type": "code",
   "execution_count": 11,
   "metadata": {},
   "outputs": [
    {
     "data": {
      "text/plain": [
       "100    17\n",
       "99     17\n",
       "111    14\n",
       "107    14\n",
       "129    14\n",
       "       ..\n",
       "182     1\n",
       "186     1\n",
       "190     1\n",
       "191     1\n",
       "44      1\n",
       "Name: Glucose, Length: 135, dtype: int64"
      ]
     },
     "execution_count": 11,
     "metadata": {},
     "output_type": "execute_result"
    }
   ],
   "source": [
    "# Outlier removal:-\n",
    "sorted(data['Glucose'])\n",
    "q1 , q3 = np.percentile(data['Glucose'],[25,75])\n",
    "IQR = q3 - q1\n",
    "lower = q1 - (1.5*IQR)\n",
    "upper = q3 + (1.5*IQR)\n",
    "data['Glucose'] = data['Glucose'][(data['Glucose'] > lower) & (data['Glucose'] < upper)]\n",
    "\n",
    "data['Glucose'].value_counts() # Outliers have been removed."
   ]
  },
  {
   "cell_type": "markdown",
   "metadata": {},
   "source": [
    "# BloodPressure:-\n",
    "\n",
    "As we can see below, the same problem arises. We will deal with it in a similar manner."
   ]
  },
  {
   "cell_type": "code",
   "execution_count": 12,
   "metadata": {},
   "outputs": [
    {
     "data": {
      "text/plain": [
       "count    768.000000\n",
       "mean      69.105469\n",
       "std       19.355807\n",
       "min        0.000000\n",
       "25%       62.000000\n",
       "50%       72.000000\n",
       "75%       80.000000\n",
       "max      122.000000\n",
       "Name: BloodPressure, dtype: float64"
      ]
     },
     "execution_count": 12,
     "metadata": {},
     "output_type": "execute_result"
    }
   ],
   "source": [
    "data['BloodPressure'].describe()"
   ]
  },
  {
   "cell_type": "code",
   "execution_count": 13,
   "metadata": {},
   "outputs": [
    {
     "data": {
      "text/plain": [
       "Outcome\n",
       "0    70\n",
       "1    74\n",
       "Name: BloodPressure, dtype: int64"
      ]
     },
     "execution_count": 13,
     "metadata": {},
     "output_type": "execute_result"
    }
   ],
   "source": [
    "data['BloodPressure'].groupby(data['Outcome']).median()"
   ]
  },
  {
   "cell_type": "code",
   "execution_count": 14,
   "metadata": {},
   "outputs": [
    {
     "data": {
      "text/plain": [
       "array([ 72,  66,  64,  40,  74,  50,  70,  96,  92,  80,  60,  84,  30,\n",
       "        88,  90,  94,  76,  82,  75,  58,  78,  68, 110,  56,  62,  85,\n",
       "        86,  48,  44,  65, 108,  55, 122,  54,  52,  98, 104,  95,  46,\n",
       "       102, 100,  61,  24,  38, 106, 114], dtype=int64)"
      ]
     },
     "execution_count": 14,
     "metadata": {},
     "output_type": "execute_result"
    }
   ],
   "source": [
    "data.loc[(data['Outcome'] == 0 ) & (data['BloodPressure'] == 0), 'BloodPressure'] = 70\n",
    "data.loc[(data['Outcome'] == 1 ) & (data['BloodPressure'] == 0), 'BloodPressure'] = 74\n",
    "data['BloodPressure'].unique()"
   ]
  },
  {
   "cell_type": "code",
   "execution_count": 15,
   "metadata": {},
   "outputs": [
    {
     "data": {
      "text/plain": [
       "70.0     93\n",
       "74.0     68\n",
       "68.0     45\n",
       "78.0     45\n",
       "72.0     44\n",
       "64.0     43\n",
       "80.0     40\n",
       "76.0     39\n",
       "60.0     37\n",
       "62.0     34\n",
       "66.0     30\n",
       "82.0     30\n",
       "88.0     25\n",
       "84.0     23\n",
       "90.0     22\n",
       "58.0     21\n",
       "86.0     21\n",
       "50.0     13\n",
       "56.0     12\n",
       "52.0     11\n",
       "54.0     11\n",
       "75.0      8\n",
       "92.0      8\n",
       "65.0      7\n",
       "94.0      6\n",
       "85.0      6\n",
       "48.0      5\n",
       "44.0      4\n",
       "96.0      4\n",
       "100.0     3\n",
       "98.0      3\n",
       "55.0      2\n",
       "46.0      2\n",
       "95.0      1\n",
       "102.0     1\n",
       "61.0      1\n",
       "Name: BloodPressure, dtype: int64"
      ]
     },
     "execution_count": 15,
     "metadata": {},
     "output_type": "execute_result"
    }
   ],
   "source": [
    "# Outlier removal:-\n",
    "sorted(data['BloodPressure'])\n",
    "q1 , q3 = np.percentile(data['BloodPressure'],[25,75])\n",
    "IQR = q3 - q1\n",
    "lower = q1 - (1.5*IQR)\n",
    "upper = q3 + (1.5*IQR)\n",
    "data['BloodPressure'] = data['BloodPressure'][(data['BloodPressure'] > lower) & (data['BloodPressure'] < upper)]\n",
    "\n",
    "data['BloodPressure'] = data['BloodPressure'].replace(np.nan,70)\n",
    "data['BloodPressure'].value_counts() # Outliers have been removed."
   ]
  },
  {
   "cell_type": "markdown",
   "metadata": {},
   "source": [
    "# Insulin:-"
   ]
  },
  {
   "cell_type": "code",
   "execution_count": 16,
   "metadata": {},
   "outputs": [
    {
     "data": {
      "text/plain": [
       "count    768.000000\n",
       "mean      79.799479\n",
       "std      115.244002\n",
       "min        0.000000\n",
       "25%        0.000000\n",
       "50%       30.500000\n",
       "75%      127.250000\n",
       "max      846.000000\n",
       "Name: Insulin, dtype: float64"
      ]
     },
     "execution_count": 16,
     "metadata": {},
     "output_type": "execute_result"
    }
   ],
   "source": [
    "data['Insulin'].describe()"
   ]
  },
  {
   "cell_type": "code",
   "execution_count": 17,
   "metadata": {},
   "outputs": [
    {
     "data": {
      "text/plain": [
       "Outcome\n",
       "0     68.792000\n",
       "1    100.335821\n",
       "Name: Insulin, dtype: float64"
      ]
     },
     "execution_count": 17,
     "metadata": {},
     "output_type": "execute_result"
    }
   ],
   "source": [
    "data['Insulin'].groupby(data['Outcome']).mean()"
   ]
  },
  {
   "cell_type": "code",
   "execution_count": 18,
   "metadata": {},
   "outputs": [
    {
     "data": {
      "text/plain": [
       "array([100,  68,  94, 168,  88, 543, 846, 175, 230,  83,  96, 235, 146,\n",
       "       115, 140, 110, 245,  54, 192, 207,  70, 240,  82,  36,  23, 300,\n",
       "       342, 304, 142, 128,  38,  90, 270,  71, 125, 176,  48,  64, 228,\n",
       "        76, 220,  40, 152,  18, 135, 495,  37,  51,  99, 145, 225,  49,\n",
       "        50,  92, 325,  63, 284, 119, 204, 155, 485,  53, 114, 105, 285,\n",
       "       156,  78, 130,  55,  58, 160, 210, 318,  44, 190, 280,  87, 271,\n",
       "       129, 120, 478,  56,  32, 744, 370,  45, 194, 680, 402, 258, 375,\n",
       "       150,  67,  57, 116, 278, 122, 545,  75,  74, 182, 360, 215, 184,\n",
       "        42, 132, 148, 180, 205,  85, 231,  29,  52, 255, 171,  73, 108,\n",
       "        43, 167, 249, 293,  66, 465,  89, 158,  84,  72,  59,  81, 196,\n",
       "       415, 275, 165, 579, 310,  61, 474, 170, 277,  60,  14,  95, 237,\n",
       "       191, 328, 250, 480, 265, 193,  79,  86, 326, 188, 106,  65, 166,\n",
       "       274,  77, 126, 330, 600, 185,  25,  41, 272, 321, 144,  15, 183,\n",
       "        91,  46, 440, 159, 540, 200, 335, 387,  22, 291, 392, 178, 127,\n",
       "       510,  16, 112], dtype=int64)"
      ]
     },
     "execution_count": 18,
     "metadata": {},
     "output_type": "execute_result"
    }
   ],
   "source": [
    "data.loc[(data['Outcome'] == 0 ) & (data['Insulin'] == 0), 'Insulin'] = 68\n",
    "data.loc[(data['Outcome'] == 1 ) & (data['Insulin'] == 0), 'Insulin'] = 100\n",
    "data['Insulin'].unique()"
   ]
  },
  {
   "cell_type": "code",
   "execution_count": 19,
   "metadata": {},
   "outputs": [
    {
     "data": {
      "text/plain": [
       "array([100.,  68.,  94., 168.,  88., 175.,  83.,  96., 146., 115., 140.,\n",
       "       110.,  54., 192., 207.,  70.,  82.,  36.,  23., 142., 128.,  38.,\n",
       "        90.,  71., 125., 176.,  48.,  64.,  76.,  40., 152.,  18., 135.,\n",
       "        37.,  51.,  99., 145.,  49.,  50.,  92.,  63., 119., 204., 155.,\n",
       "        53., 114., 105., 156.,  78., 130.,  55.,  58., 160., 210.,  44.,\n",
       "       190.,  87., 129., 120.,  56.,  32.,  45., 194., 150.,  67.,  57.,\n",
       "       116., 122.,  75.,  74., 182., 215., 184.,  42., 132., 148., 180.,\n",
       "       205.,  85.,  29.,  52., 171.,  73., 108.,  43., 167.,  66.,  89.,\n",
       "       158.,  84.,  72.,  59.,  81., 196., 165.,  61., 170.,  60.,  14.,\n",
       "        95., 191., 193.,  79.,  86., 188., 106.,  65., 166.,  77., 126.,\n",
       "       185.,  25.,  41., 144.,  15., 183.,  91.,  46., 159., 200.,  22.,\n",
       "       178., 127.,  16., 112.])"
      ]
     },
     "execution_count": 19,
     "metadata": {},
     "output_type": "execute_result"
    }
   ],
   "source": [
    "# Outlier removal:-\n",
    "sorted(data['Insulin'])\n",
    "q1 , q3 = np.percentile(data['Insulin'],[25,75])\n",
    "IQR = q3 - q1\n",
    "lower = q1 - (1.5*IQR)\n",
    "upper = q3 + (1.5*IQR)\n",
    "data['Insulin'] = data['Insulin'][(data['Insulin'] > lower) & (data['Insulin'] < upper)]\n",
    "\n",
    "data['Insulin'] = data['Insulin'].replace(np.nan,68)\n",
    "data['Insulin'].unique() # Outliers have been removed."
   ]
  },
  {
   "cell_type": "markdown",
   "metadata": {},
   "source": [
    "# Skin Thickness:-"
   ]
  },
  {
   "cell_type": "code",
   "execution_count": 20,
   "metadata": {},
   "outputs": [
    {
     "data": {
      "text/plain": [
       "count    768.000000\n",
       "mean      20.536458\n",
       "std       15.952218\n",
       "min        0.000000\n",
       "25%        0.000000\n",
       "50%       23.000000\n",
       "75%       32.000000\n",
       "max       99.000000\n",
       "Name: SkinThickness, dtype: float64"
      ]
     },
     "execution_count": 20,
     "metadata": {},
     "output_type": "execute_result"
    }
   ],
   "source": [
    "data['SkinThickness'].describe()"
   ]
  },
  {
   "cell_type": "code",
   "execution_count": 21,
   "metadata": {},
   "outputs": [
    {
     "data": {
      "text/plain": [
       "Outcome\n",
       "0    21\n",
       "1    27\n",
       "Name: SkinThickness, dtype: int64"
      ]
     },
     "execution_count": 21,
     "metadata": {},
     "output_type": "execute_result"
    }
   ],
   "source": [
    "data['SkinThickness'].groupby(data['Outcome']).median()"
   ]
  },
  {
   "cell_type": "code",
   "execution_count": 22,
   "metadata": {},
   "outputs": [
    {
     "data": {
      "text/plain": [
       "array([35, 29, 27, 23, 21, 32, 45, 19, 47, 38, 30, 41, 33, 26, 15, 36, 11,\n",
       "       31, 37, 42, 25, 18, 24, 39, 34, 10, 60, 13, 20, 22, 28, 54, 40, 51,\n",
       "       56, 14, 17, 50, 44, 12, 46, 16,  7, 52, 43, 48,  8, 49, 63, 99],\n",
       "      dtype=int64)"
      ]
     },
     "execution_count": 22,
     "metadata": {},
     "output_type": "execute_result"
    }
   ],
   "source": [
    "data.loc[(data['Outcome'] == 0 ) & (data['SkinThickness'] == 0), 'SkinThickness'] = 21\n",
    "data.loc[(data['Outcome'] == 1 ) & (data['SkinThickness'] == 0), 'SkinThickness'] = 27\n",
    "data['SkinThickness'].unique()"
   ]
  },
  {
   "cell_type": "code",
   "execution_count": 23,
   "metadata": {},
   "outputs": [
    {
     "data": {
      "text/plain": [
       "array([35., 29., 27., 23., 21., 32., 45., 19., 47., 38., 30., 41., 33.,\n",
       "       26., 15., 36., 11., 31., 37., 42., 25., 18., 24., 39., 34., 10.,\n",
       "       13., 20., 22., 28., 40., 14., 17., 44., 12., 46., 16.,  7., 43.,\n",
       "       48.,  8.])"
      ]
     },
     "execution_count": 23,
     "metadata": {},
     "output_type": "execute_result"
    }
   ],
   "source": [
    "# Outlier removal:-\n",
    "sorted(data['SkinThickness'])\n",
    "q1 , q3 = np.percentile(data['SkinThickness'],[25,75])\n",
    "IQR = q3 - q1\n",
    "lower = q1 - (1.5*IQR)\n",
    "upper = q3 + (1.5*IQR)\n",
    "data['SkinThickness'] = data['SkinThickness'][(data['SkinThickness'] > lower) & (data['SkinThickness'] < upper)]\n",
    "\n",
    "# replacing nan values with mean:-\n",
    "\n",
    "data['SkinThickness'] = data['SkinThickness'].replace(np.nan,21)\n",
    "data['SkinThickness'].unique() # Outliers have been removed."
   ]
  },
  {
   "cell_type": "code",
   "execution_count": null,
   "metadata": {},
   "outputs": [],
   "source": []
  },
  {
   "cell_type": "markdown",
   "metadata": {},
   "source": [
    "# BMI:-"
   ]
  },
  {
   "cell_type": "code",
   "execution_count": 24,
   "metadata": {},
   "outputs": [
    {
     "data": {
      "text/plain": [
       "count    768.000000\n",
       "mean      31.992578\n",
       "std        7.884160\n",
       "min        0.000000\n",
       "25%       27.300000\n",
       "50%       32.000000\n",
       "75%       36.600000\n",
       "max       67.100000\n",
       "Name: BMI, dtype: float64"
      ]
     },
     "execution_count": 24,
     "metadata": {},
     "output_type": "execute_result"
    }
   ],
   "source": [
    "data['BMI'].describe()"
   ]
  },
  {
   "cell_type": "code",
   "execution_count": 25,
   "metadata": {},
   "outputs": [
    {
     "data": {
      "text/plain": [
       "Outcome\n",
       "0    30.05\n",
       "1    34.25\n",
       "Name: BMI, dtype: float64"
      ]
     },
     "execution_count": 25,
     "metadata": {},
     "output_type": "execute_result"
    }
   ],
   "source": [
    "data['BMI'].groupby(data['Outcome']).median()"
   ]
  },
  {
   "cell_type": "code",
   "execution_count": 26,
   "metadata": {},
   "outputs": [
    {
     "data": {
      "text/plain": [
       "array([33.6 , 26.6 , 23.3 , 28.1 , 43.1 , 25.6 , 31.  , 35.3 , 30.5 ,\n",
       "       34.25, 37.6 , 38.  , 27.1 , 30.1 , 25.8 , 30.  , 45.8 , 29.6 ,\n",
       "       43.3 , 34.6 , 39.3 , 35.4 , 39.8 , 29.  , 36.6 , 31.1 , 39.4 ,\n",
       "       23.2 , 22.2 , 34.1 , 36.  , 31.6 , 24.8 , 19.9 , 27.6 , 24.  ,\n",
       "       33.2 , 32.9 , 38.2 , 37.1 , 34.  , 40.2 , 22.7 , 45.4 , 27.4 ,\n",
       "       42.  , 29.7 , 28.  , 39.1 , 30.05, 19.4 , 24.2 , 24.4 , 33.7 ,\n",
       "       34.7 , 23.  , 37.7 , 46.8 , 40.5 , 41.5 , 25.  , 25.4 , 32.8 ,\n",
       "       32.5 , 42.7 , 19.6 , 28.9 , 28.6 , 43.4 , 35.1 , 32.  , 24.7 ,\n",
       "       32.6 , 43.2 , 22.4 , 29.3 , 24.6 , 48.8 , 32.4 , 38.5 , 26.5 ,\n",
       "       19.1 , 46.7 , 23.8 , 33.9 , 20.4 , 28.7 , 49.7 , 39.  , 26.1 ,\n",
       "       22.5 , 39.6 , 29.5 , 34.3 , 37.4 , 33.3 , 31.2 , 28.2 , 53.2 ,\n",
       "       34.2 , 26.8 , 55.  , 42.9 , 34.5 , 27.9 , 38.3 , 21.1 , 33.8 ,\n",
       "       30.8 , 36.9 , 39.5 , 27.3 , 21.9 , 40.6 , 47.9 , 50.  , 25.2 ,\n",
       "       40.9 , 37.2 , 44.2 , 29.9 , 31.9 , 28.4 , 43.5 , 32.7 , 67.1 ,\n",
       "       45.  , 34.9 , 27.7 , 35.9 , 22.6 , 33.1 , 30.4 , 52.3 , 24.3 ,\n",
       "       22.9 , 34.8 , 30.9 , 40.1 , 23.9 , 37.5 , 35.5 , 42.8 , 42.6 ,\n",
       "       41.8 , 35.8 , 37.8 , 28.8 , 23.6 , 35.7 , 36.7 , 45.2 , 44.  ,\n",
       "       46.2 , 35.  , 43.6 , 44.1 , 18.4 , 29.2 , 25.9 , 32.1 , 36.3 ,\n",
       "       40.  , 25.1 , 27.5 , 45.6 , 27.8 , 24.9 , 25.3 , 37.9 , 27.  ,\n",
       "       26.  , 38.7 , 20.8 , 36.1 , 30.7 , 32.3 , 52.9 , 21.  , 39.7 ,\n",
       "       25.5 , 26.2 , 19.3 , 38.1 , 23.5 , 45.5 , 23.1 , 39.9 , 36.8 ,\n",
       "       21.8 , 41.  , 42.2 , 34.4 , 27.2 , 36.5 , 29.8 , 39.2 , 38.4 ,\n",
       "       36.2 , 48.3 , 20.  , 22.3 , 45.7 , 23.7 , 22.1 , 42.1 , 42.4 ,\n",
       "       18.2 , 26.4 , 45.3 , 37.  , 24.5 , 32.2 , 59.4 , 21.2 , 26.7 ,\n",
       "       30.2 , 46.1 , 41.3 , 38.8 , 35.2 , 42.3 , 40.7 , 46.5 , 33.5 ,\n",
       "       37.3 , 30.3 , 26.3 , 21.7 , 36.4 , 28.5 , 26.9 , 38.6 , 31.3 ,\n",
       "       19.5 , 20.1 , 40.8 , 23.4 , 28.3 , 38.9 , 57.3 , 35.6 , 49.6 ,\n",
       "       44.6 , 24.1 , 44.5 , 41.2 , 49.3 , 46.3 ])"
      ]
     },
     "execution_count": 26,
     "metadata": {},
     "output_type": "execute_result"
    }
   ],
   "source": [
    "data.loc[(data['Outcome'] == 0 ) & (data['BMI'] == 0), 'BMI'] = 30.05\n",
    "data.loc[(data['Outcome'] == 1 ) & (data['BMI'] == 0), 'BMI'] = 34.25\n",
    "data['BMI'].unique()"
   ]
  },
  {
   "cell_type": "code",
   "execution_count": 27,
   "metadata": {},
   "outputs": [
    {
     "data": {
      "text/plain": [
       "array([33.6 , 26.6 , 23.3 , 28.1 , 43.1 , 25.6 , 31.  , 35.3 , 30.5 ,\n",
       "       34.25, 37.6 , 38.  , 27.1 , 30.1 , 25.8 , 30.  , 45.8 , 29.6 ,\n",
       "       43.3 , 34.6 , 39.3 , 35.4 , 39.8 , 29.  , 36.6 , 31.1 , 39.4 ,\n",
       "       23.2 , 22.2 , 34.1 , 36.  , 31.6 , 24.8 , 19.9 , 27.6 , 24.  ,\n",
       "       33.2 , 32.9 , 38.2 , 37.1 , 34.  , 40.2 , 22.7 , 45.4 , 27.4 ,\n",
       "       42.  , 29.7 , 28.  , 39.1 , 30.05, 19.4 , 24.2 , 24.4 , 33.7 ,\n",
       "       34.7 , 23.  , 37.7 , 46.8 , 40.5 , 41.5 , 25.  , 25.4 , 32.8 ,\n",
       "       32.5 , 42.7 , 19.6 , 28.9 , 28.6 , 43.4 , 35.1 , 32.  , 24.7 ,\n",
       "       32.6 , 43.2 , 22.4 , 29.3 , 24.6 , 48.8 , 32.4 , 38.5 , 26.5 ,\n",
       "       19.1 , 46.7 , 23.8 , 33.9 , 20.4 , 28.7 , 49.7 , 39.  , 26.1 ,\n",
       "       22.5 , 39.6 , 29.5 , 34.3 , 37.4 , 33.3 , 31.2 , 28.2 , 34.2 ,\n",
       "       26.8 , 42.9 , 34.5 , 27.9 , 38.3 , 21.1 , 33.8 , 30.8 , 36.9 ,\n",
       "       39.5 , 27.3 , 21.9 , 40.6 , 47.9 , 50.  , 25.2 , 40.9 , 37.2 ,\n",
       "       44.2 , 29.9 , 31.9 , 28.4 , 43.5 , 32.7 , 45.  , 34.9 , 27.7 ,\n",
       "       35.9 , 22.6 , 33.1 , 30.4 , 24.3 , 22.9 , 34.8 , 30.9 , 40.1 ,\n",
       "       23.9 , 37.5 , 35.5 , 42.8 , 42.6 , 41.8 , 35.8 , 37.8 , 28.8 ,\n",
       "       23.6 , 35.7 , 36.7 , 45.2 , 44.  , 46.2 , 35.  , 43.6 , 44.1 ,\n",
       "       18.4 , 29.2 , 25.9 , 32.1 , 36.3 , 40.  , 25.1 , 27.5 , 45.6 ,\n",
       "       27.8 , 24.9 , 25.3 , 37.9 , 27.  , 26.  , 38.7 , 20.8 , 36.1 ,\n",
       "       30.7 , 32.3 , 21.  , 39.7 , 25.5 , 26.2 , 19.3 , 38.1 , 23.5 ,\n",
       "       45.5 , 23.1 , 39.9 , 36.8 , 21.8 , 41.  , 42.2 , 34.4 , 27.2 ,\n",
       "       36.5 , 29.8 , 39.2 , 38.4 , 36.2 , 48.3 , 20.  , 22.3 , 45.7 ,\n",
       "       23.7 , 22.1 , 42.1 , 42.4 , 18.2 , 26.4 , 45.3 , 37.  , 24.5 ,\n",
       "       32.2 , 21.2 , 26.7 , 30.2 , 46.1 , 41.3 , 38.8 , 35.2 , 42.3 ,\n",
       "       40.7 , 46.5 , 33.5 , 37.3 , 30.3 , 26.3 , 21.7 , 36.4 , 28.5 ,\n",
       "       26.9 , 38.6 , 31.3 , 19.5 , 20.1 , 40.8 , 23.4 , 28.3 , 38.9 ,\n",
       "       35.6 , 49.6 , 44.6 , 24.1 , 44.5 , 41.2 , 49.3 , 46.3 ])"
      ]
     },
     "execution_count": 27,
     "metadata": {},
     "output_type": "execute_result"
    }
   ],
   "source": [
    "# Outlier removal:-\n",
    "sorted(data['BMI'])\n",
    "q1 , q3 = np.percentile(data['BMI'],[25,75])\n",
    "IQR = q3 - q1\n",
    "lower = q1 - (1.5*IQR)\n",
    "upper = q3 + (1.5*IQR)\n",
    "data['BMI'] = data['BMI'][(data['BMI'] > lower) & (data['BMI'] < upper)]\n",
    "\n",
    "data['BMI'] = data['BMI'].replace(np.nan,25)\n",
    "data['BMI'].unique() # Outliers have been removed."
   ]
  },
  {
   "cell_type": "code",
   "execution_count": 28,
   "metadata": {},
   "outputs": [
    {
     "name": "stdout",
     "output_type": "stream",
     "text": [
      "<class 'pandas.core.frame.DataFrame'>\n",
      "RangeIndex: 768 entries, 0 to 767\n",
      "Data columns (total 9 columns):\n",
      " #   Column                    Non-Null Count  Dtype  \n",
      "---  ------                    --------------  -----  \n",
      " 0   Pregnancies               768 non-null    float64\n",
      " 1   Glucose                   768 non-null    int64  \n",
      " 2   BloodPressure             768 non-null    float64\n",
      " 3   SkinThickness             768 non-null    float64\n",
      " 4   Insulin                   768 non-null    float64\n",
      " 5   BMI                       768 non-null    float64\n",
      " 6   DiabetesPedigreeFunction  768 non-null    float64\n",
      " 7   Age                       768 non-null    int64  \n",
      " 8   Outcome                   768 non-null    int64  \n",
      "dtypes: float64(6), int64(3)\n",
      "memory usage: 54.1 KB\n"
     ]
    }
   ],
   "source": [
    "data.info()"
   ]
  },
  {
   "cell_type": "markdown",
   "metadata": {},
   "source": [
    "Hence our data cleaning and preprocessing steps are complete."
   ]
  },
  {
   "cell_type": "markdown",
   "metadata": {},
   "source": [
    "# Diabetes Pedigree Function:-"
   ]
  },
  {
   "cell_type": "code",
   "execution_count": 29,
   "metadata": {},
   "outputs": [
    {
     "data": {
      "text/plain": [
       "count    768.000000\n",
       "mean       0.471876\n",
       "std        0.331329\n",
       "min        0.078000\n",
       "25%        0.243750\n",
       "50%        0.372500\n",
       "75%        0.626250\n",
       "max        2.420000\n",
       "Name: DiabetesPedigreeFunction, dtype: float64"
      ]
     },
     "execution_count": 29,
     "metadata": {},
     "output_type": "execute_result"
    }
   ],
   "source": [
    "data['DiabetesPedigreeFunction'].describe()"
   ]
  },
  {
   "cell_type": "code",
   "execution_count": 30,
   "metadata": {},
   "outputs": [
    {
     "data": {
      "text/plain": [
       "Outcome\n",
       "0    0.336\n",
       "1    0.449\n",
       "Name: DiabetesPedigreeFunction, dtype: float64"
      ]
     },
     "execution_count": 30,
     "metadata": {},
     "output_type": "execute_result"
    }
   ],
   "source": [
    "data['DiabetesPedigreeFunction'].groupby(data['Outcome']).median()"
   ]
  },
  {
   "cell_type": "code",
   "execution_count": 31,
   "metadata": {},
   "outputs": [
    {
     "data": {
      "text/plain": [
       "array([0.627, 0.351, 0.672, 0.167, 0.449, 0.201, 0.248, 0.134, 0.158,\n",
       "       0.232, 0.191, 0.537, 0.336, 0.398, 0.587, 0.484, 0.551, 0.254,\n",
       "       0.183, 0.529, 0.704, 0.388, 0.451, 0.263, 0.205, 0.257, 0.487,\n",
       "       0.245, 0.337, 0.546, 0.851, 0.267, 0.188, 0.512, 0.966, 0.42 ,\n",
       "       0.665, 0.503, 0.271, 0.696, 0.235, 0.721, 0.294, 0.564, 0.586,\n",
       "       0.344, 0.305, 0.491, 0.526, 0.342, 0.467, 0.718, 0.962, 0.173,\n",
       "       0.304, 0.27 , 0.699, 0.258, 0.203, 0.855, 0.845, 0.334, 0.189,\n",
       "       0.867, 0.411, 0.583, 0.231, 0.396, 0.14 , 0.391, 0.37 , 0.307,\n",
       "       0.102, 0.767, 0.237, 0.227, 0.698, 0.178, 0.324, 0.153, 0.165,\n",
       "       0.443, 0.261, 0.277, 0.761, 0.255, 0.13 , 0.323, 0.356, 0.325,\n",
       "       0.179, 0.262, 0.283, 0.93 , 0.801, 0.207, 0.287, 0.247, 0.199,\n",
       "       0.543, 0.192, 0.588, 0.539, 0.22 , 0.654, 0.223, 0.759, 0.26 ,\n",
       "       0.404, 0.186, 0.278, 0.496, 0.452, 0.403, 0.741, 0.361, 0.457,\n",
       "       0.647, 0.088, 0.597, 0.532, 0.703, 0.159, 0.268, 0.286, 0.318,\n",
       "       0.272, 0.572, 0.096, 0.218, 0.085, 0.399, 0.432, 0.687, 0.137,\n",
       "       0.637, 0.833, 0.229, 0.817, 0.204, 0.368, 0.743, 0.722, 0.256,\n",
       "       0.709, 0.471, 0.495, 0.18 , 0.542, 0.773, 0.678, 0.719, 0.382,\n",
       "       0.319, 0.19 , 0.956, 0.084, 0.725, 0.299, 0.244, 0.745, 0.615,\n",
       "       0.64 , 0.142, 0.374, 0.383, 0.578, 0.136, 0.395, 0.187, 0.905,\n",
       "       0.15 , 0.874, 0.236, 0.787, 0.407, 0.605, 0.151, 0.289, 0.355,\n",
       "       0.29 , 0.375, 0.164, 0.431, 0.742, 0.514, 0.464, 0.805, 0.209,\n",
       "       0.666, 0.101, 0.198, 0.652, 0.089, 0.645, 0.238, 0.394, 0.293,\n",
       "       0.479, 0.686, 0.831, 0.582, 0.446, 0.402, 0.329, 0.427, 0.282,\n",
       "       0.143, 0.38 , 0.284, 0.249, 0.926, 0.557, 0.092, 0.655, 0.612,\n",
       "       0.2  , 0.226, 0.997, 0.933, 0.078, 0.24 , 0.128, 0.422, 0.251,\n",
       "       0.677, 0.296, 0.454, 0.744, 0.881, 0.28 , 0.259, 0.619, 0.808,\n",
       "       0.34 , 0.434, 0.757, 0.613, 0.692, 0.52 , 0.412, 0.84 , 0.839,\n",
       "       0.156, 0.215, 0.326, 0.875, 0.313, 0.433, 0.626, 0.315, 0.345,\n",
       "       0.129, 0.527, 0.197, 0.731, 0.148, 0.123, 0.127, 0.122, 0.166,\n",
       "       0.932, 0.343, 0.893, 0.331, 0.472, 0.673, 0.389, 0.485, 0.349,\n",
       "       0.279, 0.346, 0.252, 0.243, 0.58 , 0.559, 0.302, 0.569, 0.378,\n",
       "       0.385, 0.499, 0.306, 0.234, 0.545, 0.225, 0.816, 0.528, 0.509,\n",
       "       0.821, 0.947, 0.221, 0.66 , 0.239, 0.949, 0.444, 0.463, 0.803,\n",
       "       0.944, 0.196, 0.241, 0.161, 0.135, 0.376, 0.702, 0.674, 0.534,\n",
       "       0.554, 0.624, 0.219, 0.507, 0.561, 0.421, 0.516, 0.264, 0.328,\n",
       "       0.233, 0.108, 0.147, 0.727, 0.435, 0.497, 0.23 , 0.955, 0.658,\n",
       "       0.33 , 0.51 , 0.285, 0.415, 0.381, 0.832, 0.498, 0.212, 0.364,\n",
       "       0.46 , 0.733, 0.416, 0.705, 0.269, 0.6  , 0.571, 0.607, 0.17 ,\n",
       "       0.21 , 0.126, 0.711, 0.466, 0.162, 0.419, 0.63 , 0.365, 0.536,\n",
       "       0.629, 0.292, 0.145, 0.174, 0.547, 0.163, 0.738, 0.314, 0.968,\n",
       "       0.409, 0.297, 0.525, 0.154, 0.771, 0.107, 0.493, 0.717, 0.917,\n",
       "       0.501, 0.735, 0.804, 0.661, 0.549, 0.825, 0.423, 0.16 , 0.341,\n",
       "       0.68 , 0.591, 0.3  , 0.121, 0.502, 0.401, 0.601, 0.748, 0.338,\n",
       "       0.43 , 0.892, 0.813, 0.693, 0.575, 0.371, 0.206, 0.417, 0.925,\n",
       "       0.175, 0.682, 0.194, 0.4  , 0.1  , 0.482, 0.138, 0.593, 0.878,\n",
       "       0.157, 0.141, 0.246, 0.347, 0.362, 0.393, 0.144, 0.732, 0.115,\n",
       "       0.465, 0.649, 0.871, 0.149, 0.695, 0.303, 0.61 , 0.73 , 0.447,\n",
       "       0.455, 0.133, 0.155, 0.182, 0.217, 0.631, 0.88 , 0.614, 0.332,\n",
       "       0.366, 0.181, 0.828, 0.335, 0.856, 0.886, 0.439, 0.253, 0.598,\n",
       "       0.904, 0.483, 0.565, 0.118, 0.177, 0.176, 0.295, 0.441, 0.352,\n",
       "       0.826, 0.97 , 0.595, 0.317, 0.265, 0.646, 0.426, 0.56 , 0.515,\n",
       "       0.453, 0.785, 0.734, 0.488, 0.358, 0.408, 0.222, 0.766, 0.171])"
      ]
     },
     "execution_count": 31,
     "metadata": {},
     "output_type": "execute_result"
    }
   ],
   "source": [
    "data.loc[(data['DiabetesPedigreeFunction'] > 1) & (data['Outcome'] == 0),'DiabetesPedigreeFunction'] = 0.336\n",
    "data.loc[(data['DiabetesPedigreeFunction'] > 1) & (data['Outcome'] == 1),'DiabetesPedigreeFunction'] = 0.449\n",
    "data['DiabetesPedigreeFunction'].unique()"
   ]
  },
  {
   "cell_type": "code",
   "execution_count": 32,
   "metadata": {},
   "outputs": [
    {
     "data": {
      "text/plain": [
       "<AxesSubplot:>"
      ]
     },
     "execution_count": 32,
     "metadata": {},
     "output_type": "execute_result"
    },
    {
     "data": {
      "image/png": "[encoded data removed]",
      "text/plain": [
       "<Figure size 1080x1080 with 1 Axes>"
      ]
     },
     "metadata": {
      "needs_background": "light"
     },
     "output_type": "display_data"
    }
   ],
   "source": [
    "# Outlier detection:-\n",
    "plt.figure(figsize=(15,15))\n",
    "sns.boxplot(data=data,orient='h')"
   ]
  },
  {
   "cell_type": "code",
   "execution_count": 33,
   "metadata": {},
   "outputs": [
    {
     "data": {
      "text/plain": [
       "<AxesSubplot:>"
      ]
     },
     "execution_count": 33,
     "metadata": {},
     "output_type": "execute_result"
    },
    {
     "data": {
      "image/png": "[encoded data removed]",
      "text/plain": [
       "<Figure size 864x576 with 2 Axes>"
      ]
     },
     "metadata": {
      "needs_background": "light"
     },
     "output_type": "display_data"
    }
   ],
   "source": [
    "matrix = data.corr()\n",
    "plt.figure(figsize=(12,8))\n",
    "sns.heatmap(matrix,annot=True,cmap='coolwarm')"
   ]
  },
  {
   "cell_type": "markdown",
   "metadata": {},
   "source": [
    "Most the features have significant positive correlation with the target. There is also no apparent multicollinearity between the features."
   ]
  },
  {
   "cell_type": "markdown",
   "metadata": {},
   "source": [
    "# Training a model:-"
   ]
  },
  {
   "cell_type": "markdown",
   "metadata": {},
   "source": [
    "I will be creating 2 label columns. One for the Outcome andanother for the Diabetes Pedigree Function. A classifier will be used to predict the outcomes and a regression model will be used to predict the pedigree function, or how likely the patient is to be diabetic in the future. The webapp will be returning both these values "
   ]
  },
  {
   "cell_type": "code",
   "execution_count": 34,
   "metadata": {},
   "outputs": [
    {
     "name": "stdout",
     "output_type": "stream",
     "text": [
      "<class 'pandas.core.frame.DataFrame'>\n",
      "RangeIndex: 768 entries, 0 to 767\n",
      "Data columns (total 9 columns):\n",
      " #   Column                    Non-Null Count  Dtype  \n",
      "---  ------                    --------------  -----  \n",
      " 0   Pregnancies               768 non-null    float64\n",
      " 1   Glucose                   768 non-null    int64  \n",
      " 2   BloodPressure             768 non-null    float64\n",
      " 3   SkinThickness             768 non-null    float64\n",
      " 4   Insulin                   768 non-null    float64\n",
      " 5   BMI                       768 non-null    float64\n",
      " 6   DiabetesPedigreeFunction  768 non-null    float64\n",
      " 7   Age                       768 non-null    int64  \n",
      " 8   Outcome                   768 non-null    int64  \n",
      "dtypes: float64(6), int64(3)\n",
      "memory usage: 54.1 KB\n"
     ]
    }
   ],
   "source": [
    "data.info()"
   ]
  },
  {
   "cell_type": "code",
   "execution_count": 35,
   "metadata": {},
   "outputs": [],
   "source": [
    "# Importing sklearn and other modules:-\n",
    "\n",
    "from sklearn.model_selection import train_test_split , RandomizedSearchCV\n",
    "from sklearn.preprocessing import StandardScaler\n",
    "from sklearn.linear_model import LogisticRegression\n",
    "from sklearn.tree import DecisionTreeClassifier\n",
    "from sklearn.ensemble import RandomForestClassifier, RandomForestRegressor\n",
    "from sklearn.ensemble import AdaBoostClassifier , GradientBoostingClassifier, AdaBoostRegressor, GradientBoostingRegressor\n",
    "from sklearn.metrics import classification_report , confusion_matrix"
   ]
  },
  {
   "cell_type": "code",
   "execution_count": 36,
   "metadata": {},
   "outputs": [],
   "source": [
    "X = data.drop(['Outcome','DiabetesPedigreeFunction'],axis=1)\n",
    "y = data['Outcome']\n",
    "pedigree_labels = data['DiabetesPedigreeFunction']\n",
    "\n",
    "X_train , X_test , y_train , y_test = train_test_split(X,y,test_size=0.1,random_state=101)\n",
    "\n",
    "# For pedigree values:\n",
    "features_train, features_test, ped_train, ped_test = train_test_split(X,pedigree_labels,test_size=0.1,random_state=101)"
   ]
  },
  {
   "cell_type": "code",
   "execution_count": 73,
   "metadata": {},
   "outputs": [
    {
     "data": {
      "text/plain": [
       "7.0"
      ]
     },
     "execution_count": 73,
     "metadata": {},
     "output_type": "execute_result"
    }
   ],
   "source": [
    "X.SkinThickness.min()"
   ]
  },
  {
   "cell_type": "markdown",
   "metadata": {},
   "source": [
    "Feature scaling:-"
   ]
  },
  {
   "cell_type": "code",
   "execution_count": 37,
   "metadata": {},
   "outputs": [],
   "source": [
    "# For outcome:\n",
    "X_scaler = StandardScaler()\n",
    "\n",
    "# For pedigree labels:\n",
    "features_scaler = StandardScaler()\n",
    "\n",
    "X_train_scaled = X_scaler.fit_transform(X_train)\n",
    "X_test_scaled = X_scaler.transform(X_test)\n",
    "\n",
    "features_train_scaled = features_scaler.fit_transform(features_train)\n",
    "features_test_scaled = features_scaler.transform(features_test)"
   ]
  },
  {
   "cell_type": "code",
   "execution_count": null,
   "metadata": {},
   "outputs": [],
   "source": []
  },
  {
   "cell_type": "markdown",
   "metadata": {},
   "source": [
    "# Logistic Regression:-"
   ]
  },
  {
   "cell_type": "code",
   "execution_count": 38,
   "metadata": {},
   "outputs": [
    {
     "name": "stdout",
     "output_type": "stream",
     "text": [
      "              precision    recall  f1-score   support\n",
      "\n",
      "           0       0.86      0.91      0.88        53\n",
      "           1       0.76      0.67      0.71        24\n",
      "\n",
      "    accuracy                           0.83        77\n",
      "   macro avg       0.81      0.79      0.80        77\n",
      "weighted avg       0.83      0.83      0.83        77\n",
      "\n",
      "[[48  5]\n",
      " [ 8 16]]\n"
     ]
    }
   ],
   "source": [
    "log_model = LogisticRegression()\n",
    "\n",
    "log_model.fit(X_train_scaled,y_train)\n",
    "log_pred = log_model.predict(X_test_scaled)\n",
    "\n",
    "print(classification_report(y_test,log_pred))\n",
    "print(confusion_matrix(y_test,log_pred))"
   ]
  },
  {
   "cell_type": "markdown",
   "metadata": {},
   "source": [
    "# Random Forest Classifier:-"
   ]
  },
  {
   "cell_type": "code",
   "execution_count": 39,
   "metadata": {},
   "outputs": [
    {
     "data": {
      "text/plain": [
       "RandomizedSearchCV(cv=5, estimator=RandomForestClassifier(), n_jobs=-1,\n",
       "                   param_distributions={'criterion': ['gini', 'entropy'],\n",
       "                                        'max_depth': [4, 8, 12, 16, 20, 24, 32],\n",
       "                                        'max_features': ['sqrt', 'log2'],\n",
       "                                        'n_estimators': [50, 80, 100, 120, 150,\n",
       "                                                         200, 300]},\n",
       "                   scoring='accuracy')"
      ]
     },
     "execution_count": 39,
     "metadata": {},
     "output_type": "execute_result"
    }
   ],
   "source": [
    "rfc = RandomForestClassifier()\n",
    "\n",
    "rfc_param_dist = {'n_estimators':[50,80,100,120,150,200,300],'max_depth':[4,8,12,16,20,24,32],\n",
    "                 'max_features':[\"sqrt\", \"log2\"],'criterion':['gini','entropy']}\n",
    "\n",
    "rfc_random = RandomizedSearchCV(estimator=rfc,param_distributions=rfc_param_dist,scoring='accuracy',n_iter=10,cv=5,n_jobs=-1)\n",
    "\n",
    "rfc_random.fit(X_train_scaled,y_train)"
   ]
  },
  {
   "cell_type": "code",
   "execution_count": 40,
   "metadata": {},
   "outputs": [
    {
     "data": {
      "text/plain": [
       "{'n_estimators': 50,\n",
       " 'max_features': 'log2',\n",
       " 'max_depth': 24,\n",
       " 'criterion': 'entropy'}"
      ]
     },
     "execution_count": 40,
     "metadata": {},
     "output_type": "execute_result"
    }
   ],
   "source": [
    "rfc_random.best_params_"
   ]
  },
  {
   "cell_type": "code",
   "execution_count": 41,
   "metadata": {},
   "outputs": [
    {
     "data": {
      "text/plain": [
       "0.8639453654467729"
      ]
     },
     "execution_count": 41,
     "metadata": {},
     "output_type": "execute_result"
    }
   ],
   "source": [
    "rfc_random.best_score_"
   ]
  },
  {
   "cell_type": "code",
   "execution_count": 42,
   "metadata": {},
   "outputs": [
    {
     "name": "stdout",
     "output_type": "stream",
     "text": [
      "              precision    recall  f1-score   support\n",
      "\n",
      "           0       0.89      0.94      0.92        53\n",
      "           1       0.86      0.75      0.80        24\n",
      "\n",
      "    accuracy                           0.88        77\n",
      "   macro avg       0.88      0.85      0.86        77\n",
      "weighted avg       0.88      0.88      0.88        77\n",
      "\n",
      "[[50  3]\n",
      " [ 6 18]]\n"
     ]
    }
   ],
   "source": [
    "rfc_final = RandomForestClassifier(n_estimators=150,\n",
    " max_features='log2',\n",
    " max_depth=16,\n",
    " criterion='gini')\n",
    "\n",
    "rfc_final.fit(X_train_scaled,y_train)\n",
    "rfc_final_pred = rfc_final.predict(X_test_scaled)\n",
    "\n",
    "print(classification_report(y_test,rfc_final_pred))\n",
    "print(confusion_matrix(y_test,rfc_final_pred))"
   ]
  },
  {
   "cell_type": "markdown",
   "metadata": {},
   "source": [
    "Random Forest Classifier with hyperparameter tuning gave pretty good metrics."
   ]
  },
  {
   "cell_type": "markdown",
   "metadata": {},
   "source": [
    "# Adaboost Classifier:-"
   ]
  },
  {
   "cell_type": "code",
   "execution_count": 43,
   "metadata": {},
   "outputs": [
    {
     "data": {
      "text/plain": [
       "RandomizedSearchCV(cv=5,\n",
       "                   estimator=AdaBoostClassifier(base_estimator=DecisionTreeClassifier(max_depth=1)),\n",
       "                   n_jobs=-1,\n",
       "                   param_distributions={'learning_rate': [0.05, 0.1, 0.5, 1],\n",
       "                                        'n_estimators': [50, 80, 100, 120,\n",
       "                                                         150]},\n",
       "                   scoring='accuracy')"
      ]
     },
     "execution_count": 43,
     "metadata": {},
     "output_type": "execute_result"
    }
   ],
   "source": [
    "ada_cl = AdaBoostClassifier(DecisionTreeClassifier(max_depth=1))\n",
    " \n",
    "ada_param_dist = {'n_estimators':[50,80,100,120,150],\n",
    "                  'learning_rate':[0.05,0.1,0.5,1]}\n",
    "\n",
    "ada_random = RandomizedSearchCV(ada_cl,param_distributions=ada_param_dist,scoring='accuracy',n_iter=10,cv=5,n_jobs=-1)\n",
    "# Fitting:-\n",
    "ada_random.fit(X_train_scaled,y_train)"
   ]
  },
  {
   "cell_type": "code",
   "execution_count": 44,
   "metadata": {},
   "outputs": [
    {
     "data": {
      "text/plain": [
       "{'n_estimators': 100, 'learning_rate': 0.1}"
      ]
     },
     "execution_count": 44,
     "metadata": {},
     "output_type": "execute_result"
    }
   ],
   "source": [
    "ada_random.best_params_"
   ]
  },
  {
   "cell_type": "code",
   "execution_count": 45,
   "metadata": {},
   "outputs": [
    {
     "data": {
      "text/plain": [
       "0.8639766447711394"
      ]
     },
     "execution_count": 45,
     "metadata": {},
     "output_type": "execute_result"
    }
   ],
   "source": [
    "ada_random.best_score_"
   ]
  },
  {
   "cell_type": "code",
   "execution_count": 46,
   "metadata": {},
   "outputs": [],
   "source": [
    "final_ada_cl = AdaBoostClassifier(DecisionTreeClassifier(max_depth=1),n_estimators=120,learning_rate=0.1)\n",
    "\n",
    "final_ada_cl.fit(X_train_scaled,y_train)\n",
    "ada_pred = final_ada_cl.predict(X_test_scaled)"
   ]
  },
  {
   "cell_type": "code",
   "execution_count": 47,
   "metadata": {},
   "outputs": [
    {
     "name": "stdout",
     "output_type": "stream",
     "text": [
      "              precision    recall  f1-score   support\n",
      "\n",
      "           0       0.89      0.94      0.92        53\n",
      "           1       0.86      0.75      0.80        24\n",
      "\n",
      "    accuracy                           0.88        77\n",
      "   macro avg       0.88      0.85      0.86        77\n",
      "weighted avg       0.88      0.88      0.88        77\n",
      "\n",
      "[[50  3]\n",
      " [ 6 18]]\n"
     ]
    }
   ],
   "source": [
    "print(classification_report(y_test,ada_pred))\n",
    "print(confusion_matrix(y_test,ada_pred))"
   ]
  },
  {
   "cell_type": "markdown",
   "metadata": {},
   "source": [
    "# Gradient Boost Classifier:-"
   ]
  },
  {
   "cell_type": "code",
   "execution_count": 48,
   "metadata": {},
   "outputs": [
    {
     "data": {
      "text/plain": [
       "RandomizedSearchCV(cv=5, estimator=GradientBoostingClassifier(), n_jobs=-1,\n",
       "                   param_distributions={'learning_rate': [0.01, 0.05, 0.1, 0.5,\n",
       "                                                          1],\n",
       "                                        'max_features': ['sqrt', 'log2'],\n",
       "                                        'n_estimators': [80, 90, 100, 120,\n",
       "                                                         140]},\n",
       "                   scoring='accuracy')"
      ]
     },
     "execution_count": 48,
     "metadata": {},
     "output_type": "execute_result"
    }
   ],
   "source": [
    "gb_c = GradientBoostingClassifier()\n",
    "\n",
    "gb_param_dist = {'n_estimators':[80,90,100,120,140],'learning_rate':[0.01,0.05,0.1,0.5,1],'max_features':['sqrt','log2']}\n",
    "\n",
    "gb_random = RandomizedSearchCV(gb_c,param_distributions=gb_param_dist,scoring='accuracy',cv=5,n_iter=10,n_jobs=-1)\n",
    "\n",
    "# Fitting:-\n",
    "gb_random.fit(X_train_scaled,y_train)"
   ]
  },
  {
   "cell_type": "code",
   "execution_count": 49,
   "metadata": {},
   "outputs": [
    {
     "data": {
      "text/plain": [
       "{'n_estimators': 100, 'max_features': 'sqrt', 'learning_rate': 0.1}"
      ]
     },
     "execution_count": 49,
     "metadata": {},
     "output_type": "execute_result"
    }
   ],
   "source": [
    "gb_random.best_params_"
   ]
  },
  {
   "cell_type": "code",
   "execution_count": 50,
   "metadata": {},
   "outputs": [
    {
     "data": {
      "text/plain": [
       "0.8654259201334584"
      ]
     },
     "execution_count": 50,
     "metadata": {},
     "output_type": "execute_result"
    }
   ],
   "source": [
    "gb_random.best_score_"
   ]
  },
  {
   "cell_type": "code",
   "execution_count": 51,
   "metadata": {},
   "outputs": [],
   "source": [
    "final_gb_c = GradientBoostingClassifier(n_estimators=100,max_features='log2',learning_rate=0.1)\n",
    "\n",
    "final_gb_c.fit(X_train_scaled,y_train)\n",
    "\n",
    "gb_pred = final_gb_c.predict(X_test_scaled)"
   ]
  },
  {
   "cell_type": "code",
   "execution_count": 52,
   "metadata": {},
   "outputs": [
    {
     "name": "stdout",
     "output_type": "stream",
     "text": [
      "              precision    recall  f1-score   support\n",
      "\n",
      "           0       0.89      0.94      0.92        53\n",
      "           1       0.86      0.75      0.80        24\n",
      "\n",
      "    accuracy                           0.88        77\n",
      "   macro avg       0.88      0.85      0.86        77\n",
      "weighted avg       0.88      0.88      0.88        77\n",
      "\n",
      "[[50  3]\n",
      " [ 6 18]]\n"
     ]
    }
   ],
   "source": [
    "print(classification_report(y_test,gb_pred))\n",
    "print(confusion_matrix(y_test,gb_pred))"
   ]
  },
  {
   "cell_type": "markdown",
   "metadata": {},
   "source": [
    "Gradient Boosting classifier with hyperparameter tuning gives a better accuracy of 91%, and even better precision, recall and F1 scores."
   ]
  },
  {
   "cell_type": "markdown",
   "metadata": {},
   "source": [
    "### Saving the models:-"
   ]
  },
  {
   "cell_type": "code",
   "execution_count": 53,
   "metadata": {},
   "outputs": [],
   "source": [
    "import joblib"
   ]
  },
  {
   "cell_type": "code",
   "execution_count": 54,
   "metadata": {},
   "outputs": [
    {
     "data": {
      "text/plain": [
       "['Gradient_Boost_classifier.sav']"
      ]
     },
     "execution_count": 54,
     "metadata": {},
     "output_type": "execute_result"
    }
   ],
   "source": [
    "# Saving the GradientBoost model:-\n",
    "filename = 'Gradient_Boost_classifier.sav'\n",
    "joblib.dump(final_gb_c,filename)"
   ]
  },
  {
   "cell_type": "code",
   "execution_count": 55,
   "metadata": {},
   "outputs": [
    {
     "data": {
      "text/plain": [
       "['Ada_Boost_classifier.sav']"
      ]
     },
     "execution_count": 55,
     "metadata": {},
     "output_type": "execute_result"
    }
   ],
   "source": [
    "# Saving the Adaboost model:-\n",
    "ada_filename = 'Ada_Boost_classifier.sav'\n",
    "joblib.dump(final_ada_cl,ada_filename)"
   ]
  },
  {
   "cell_type": "code",
   "execution_count": 56,
   "metadata": {},
   "outputs": [
    {
     "data": {
      "text/plain": [
       "['Random_Forest_classifier.sav']"
      ]
     },
     "execution_count": 56,
     "metadata": {},
     "output_type": "execute_result"
    }
   ],
   "source": [
    "# Saving the RandomForest model:-\n",
    "rf_filename = 'Random_Forest_classifier.sav'\n",
    "joblib.dump(rfc_final,rf_filename)"
   ]
  },
  {
   "cell_type": "code",
   "execution_count": 65,
   "metadata": {},
   "outputs": [
    {
     "data": {
      "text/plain": [
       "['Outcome_Scaler.bin']"
      ]
     },
     "execution_count": 65,
     "metadata": {},
     "output_type": "execute_result"
    }
   ],
   "source": [
    "# Saving the scaler for ease of use:\n",
    "joblib.dump(X_scaler,'Outcome_Scaler.bin')"
   ]
  },
  {
   "cell_type": "code",
   "execution_count": 66,
   "metadata": {},
   "outputs": [
    {
     "data": {
      "text/plain": [
       "['Pedigree_fn_scaler.bin']"
      ]
     },
     "execution_count": 66,
     "metadata": {},
     "output_type": "execute_result"
    }
   ],
   "source": [
    "joblib.dump(features_scaler,'Pedigree_fn_scaler.bin')"
   ]
  },
  {
   "cell_type": "markdown",
   "metadata": {},
   "source": [
    "# Predicting the diabetes pedigree function:-"
   ]
  },
  {
   "cell_type": "markdown",
   "metadata": {},
   "source": [
    "features_train_scaled = features_scaler.fit_transform(features_train)\n",
    "\n",
    "features_test_scaled = features_scaler.transform(features_test)"
   ]
  },
  {
   "cell_type": "code",
   "execution_count": 57,
   "metadata": {},
   "outputs": [
    {
     "data": {
      "text/plain": [
       "RandomizedSearchCV(cv=10, estimator=RandomForestRegressor(), n_jobs=-1,\n",
       "                   param_distributions={'criterion': ['mse', 'mae'],\n",
       "                                        'max_features': ['sqrt', 'log2'],\n",
       "                                        'min_samples_split': [2, 4, 6, 8],\n",
       "                                        'n_estimators': [100, 150, 200, 250,\n",
       "                                                         300, 350, 400, 450,\n",
       "                                                         500, 550, 600, 650,\n",
       "                                                         700, 750]},\n",
       "                   scoring='neg_mean_squared_error')"
      ]
     },
     "execution_count": 57,
     "metadata": {},
     "output_type": "execute_result"
    }
   ],
   "source": [
    "rfr = RandomForestRegressor()\n",
    "\n",
    "param_dist = {'n_estimators':[x for x in np.arange(100,800,50)],\n",
    "             'criterion':['mse','mae'],\n",
    "             'max_features':['sqrt','log2'],\n",
    "             'min_samples_split':[2,4,6,8]}\n",
    "\n",
    "rfr_search = RandomizedSearchCV(estimator=rfr,param_distributions=param_dist,scoring='neg_mean_squared_error',\n",
    "                               n_jobs=-1,cv=10)\n",
    "\n",
    "rfr_search.fit(features_train_scaled,ped_train)"
   ]
  },
  {
   "cell_type": "code",
   "execution_count": 58,
   "metadata": {},
   "outputs": [],
   "source": [
    "\n",
    "rfr_model = rfr_search.best_estimator_\n",
    "\n",
    "rfr_pred = rfr_model.predict(features_test_scaled)"
   ]
  },
  {
   "cell_type": "code",
   "execution_count": 59,
   "metadata": {},
   "outputs": [
    {
     "name": "stdout",
     "output_type": "stream",
     "text": [
      "0.03957025679466316\n"
     ]
    }
   ],
   "source": [
    "from sklearn.metrics import mean_squared_error\n",
    "print(mean_squared_error(ped_test,rfr_pred))"
   ]
  },
  {
   "cell_type": "markdown",
   "metadata": {},
   "source": [
    "# Gradient Boost regressor:-"
   ]
  },
  {
   "cell_type": "code",
   "execution_count": 60,
   "metadata": {},
   "outputs": [
    {
     "data": {
      "text/plain": [
       "RandomizedSearchCV(cv=10, estimator=GradientBoostingRegressor(), n_jobs=-1,\n",
       "                   param_distributions={'criterion': ['mse', 'friedman_mse'],\n",
       "                                        'learning_rate': [0.25, 0.5, 0.75],\n",
       "                                        'loss': ['ls', 'huber', 'lad',\n",
       "                                                 'quantile'],\n",
       "                                        'n_estimators': [100, 150, 200, 250,\n",
       "                                                         300, 350, 400, 450,\n",
       "                                                         500, 550, 600, 650,\n",
       "                                                         700, 750]},\n",
       "                   scoring='neg_mean_squared_error')"
      ]
     },
     "execution_count": 60,
     "metadata": {},
     "output_type": "execute_result"
    }
   ],
   "source": [
    "gbr = GradientBoostingRegressor()\n",
    "\n",
    "param_dist = {'n_estimators':[x for x in np.arange(100,800,50)],\n",
    "             'loss':['ls','huber','lad','quantile'],\n",
    "             'criterion':['mse','friedman_mse'],\n",
    "             'learning_rate':[x for x in np.arange(0.25,1.0,0.25)]}\n",
    "\n",
    "rfr_search = RandomizedSearchCV(estimator=gbr,param_distributions=param_dist,scoring='neg_mean_squared_error',\n",
    "                               n_jobs=-1,cv=10)\n",
    "\n",
    "rfr_search.fit(features_train_scaled,ped_train)"
   ]
  },
  {
   "cell_type": "code",
   "execution_count": 61,
   "metadata": {},
   "outputs": [],
   "source": [
    "gbr_model = rfr_search.best_estimator_\n",
    "\n",
    "gbr_pred = rfr_model.predict(features_test_scaled)"
   ]
  },
  {
   "cell_type": "code",
   "execution_count": 62,
   "metadata": {},
   "outputs": [
    {
     "name": "stdout",
     "output_type": "stream",
     "text": [
      "0.03957025679466316\n"
     ]
    }
   ],
   "source": [
    "print(mean_squared_error(ped_test,gbr_pred))"
   ]
  },
  {
   "cell_type": "markdown",
   "metadata": {},
   "source": [
    "Since both random forest and Gradient Boost gave similar results upto 6 decimal places, I will be going with the simpler Random Forest model.  "
   ]
  },
  {
   "cell_type": "code",
   "execution_count": 63,
   "metadata": {},
   "outputs": [
    {
     "data": {
      "text/plain": [
       "['Random_Forest_Regressor.sav']"
      ]
     },
     "execution_count": 63,
     "metadata": {},
     "output_type": "execute_result"
    }
   ],
   "source": [
    "# Model Saving:\n",
    "filename = 'Random_Forest_Regressor.sav'\n",
    "joblib.dump(gbr_model,filename)"
   ]
  },
  {
   "cell_type": "code",
   "execution_count": null,
   "metadata": {},
   "outputs": [],
   "source": []
  }
 ],
 "metadata": {
  "kernelspec": {
   "display_name": "Python 3",
   "language": "python",
   "name": "python3"
  },
  "language_info": {
   "codemirror_mode": {
    "name": "ipython",
    "version": 3
   },
   "file_extension": ".py",
   "mimetype": "text/x-python",
   "name": "python",
   "nbconvert_exporter": "python",
   "pygments_lexer": "ipython3",
   "version": "3.8.3"
  }
 },
 "nbformat": 4,
 "nbformat_minor": 4
}
